{
 "cells": [
  {
   "cell_type": "markdown",
   "metadata": {},
   "source": [
    "# `R` to `py` interoprability with [ryp](https://github.com/Wainberg/ryp)"
   ]
  },
  {
   "cell_type": "code",
   "execution_count": 1,
   "metadata": {},
   "outputs": [
    {
     "name": "stderr",
     "output_type": "stream",
     "text": [
      "Loading required package: svglite\n"
     ]
    }
   ],
   "source": [
    "import numpy as np\n",
    "import matplotlib.pyplot as plt\n",
    "# interop package\n",
    "import ryp"
   ]
  },
  {
   "cell_type": "markdown",
   "metadata": {},
   "source": [
    "Create a numpy array"
   ]
  },
  {
   "cell_type": "code",
   "execution_count": 2,
   "metadata": {},
   "outputs": [
    {
     "data": {
      "text/plain": [
       "array([-5. , -4.9, -4.8, -4.7, -4.6, -4.5, -4.4, -4.3, -4.2, -4.1])"
      ]
     },
     "execution_count": 2,
     "metadata": {},
     "output_type": "execute_result"
    }
   ],
   "source": [
    "x = np.r_[-5:5:101j]\n",
    "x[:10]"
   ]
  },
  {
   "cell_type": "markdown",
   "metadata": {},
   "source": [
    "### pass a python object into R"
   ]
  },
  {
   "cell_type": "code",
   "execution_count": 3,
   "metadata": {},
   "outputs": [],
   "source": [
    "ryp.to_r(x, \"x_np\")"
   ]
  },
  {
   "cell_type": "markdown",
   "metadata": {},
   "source": [
    "### run arbitrary R code"
   ]
  },
  {
   "cell_type": "code",
   "execution_count": 4,
   "metadata": {},
   "outputs": [
    {
     "name": "stdout",
     "output_type": "stream",
     "text": [
      "null device \n",
      "          1 \n"
     ]
    },
    {
     "data": {
      "image/svg+xml": [
       "<svg xmlns=\"http://www.w3.org/2000/svg\" xmlns:xlink=\"http://www.w3.org/1999/xlink\" class=\"svglite\" width=\"460.80pt\" height=\"345.60pt\" viewBox=\"0 0 460.80 345.60\">\n",
       "<defs>\n",
       "  <style type=\"text/css\"><![CDATA[\n",
       "    .svglite line, .svglite polyline, .svglite polygon, .svglite path, .svglite rect, .svglite circle {\n",
       "      fill: none;\n",
       "      stroke: #000000;\n",
       "      stroke-linecap: round;\n",
       "      stroke-linejoin: round;\n",
       "      stroke-miterlimit: 10.00;\n",
       "    }\n",
       "    .svglite text {\n",
       "      white-space: pre;\n",
       "    }\n",
       "  ]]></style>\n",
       "</defs>\n",
       "<rect width=\"100%\" height=\"100%\" style=\"stroke: none; fill: #FFFFFF;\"/>\n",
       "<defs>\n",
       "  <clipPath id=\"cpMC4wMHw0NjAuODB8MC4wMHwzNDUuNjA=\">\n",
       "    <rect x=\"0.00\" y=\"0.00\" width=\"460.80\" height=\"345.60\"/>\n",
       "  </clipPath>\n",
       "</defs>\n",
       "<g clip-path=\"url(#cpMC4wMHw0NjAuODB8MC4wMHwzNDUuNjA=)\">\n",
       "</g>\n",
       "<defs>\n",
       "  <clipPath id=\"cpNTkuMDR8NDMwLjU2fDU5LjA0fDI3Mi4xNg==\">\n",
       "    <rect x=\"59.04\" y=\"59.04\" width=\"371.52\" height=\"213.12\"/>\n",
       "  </clipPath>\n",
       "</defs>\n",
       "<g clip-path=\"url(#cpNTkuMDR8NDMwLjU2fDU5LjA0fDI3Mi4xNg==)\">\n",
       "<polyline points=\"72.80,70.98 76.24,68.66 79.68,67.30 83.12,66.93 86.56,67.55 90.00,69.14 93.44,71.70 96.88,75.20 100.32,79.60 103.76,84.86 107.20,90.92 110.64,97.74 114.08,105.23 117.52,113.32 120.96,121.93 124.40,130.99 127.84,140.38 131.28,150.03 134.72,159.84 138.16,169.70 141.60,179.52 145.04,189.21 148.48,198.65 151.92,207.77 155.36,216.47 158.80,224.65 162.24,232.25 165.68,239.18 169.12,245.38 172.56,250.78 176.00,255.32 179.44,258.98 182.88,261.69 186.32,263.45 189.76,264.23 193.20,264.03 196.64,262.84 200.08,260.68 203.52,257.57 206.96,253.54 210.40,248.63 213.84,242.89 217.28,236.38 220.72,229.17 224.16,221.32 227.60,212.91 231.04,204.03 234.48,194.76 237.92,185.20 241.36,175.45 244.80,165.60 248.24,155.75 251.68,146.00 255.12,136.44 258.56,127.17 262.00,118.29 265.44,109.88 268.88,102.03 272.32,94.82 275.76,88.31 279.20,82.57 282.64,77.66 286.08,73.63 289.52,70.52 292.96,68.36 296.40,67.17 299.84,66.97 303.28,67.75 306.72,69.51 310.16,72.22 313.60,75.88 317.04,80.42 320.48,85.82 323.92,92.02 327.36,98.95 330.80,106.55 334.24,114.73 337.68,123.43 341.12,132.55 344.56,141.99 348.00,151.68 351.44,161.50 354.88,171.36 358.32,181.17 361.76,190.82 365.20,200.21 368.64,209.27 372.08,217.88 375.52,225.97 378.96,233.46 382.40,240.28 385.84,246.34 389.28,251.60 392.72,256.00 396.16,259.50 399.60,262.06 403.04,263.65 406.48,264.27 409.92,263.90 413.36,262.54 416.80,260.22 \" style=\"stroke-width: 0.75;\"/>\n",
       "</g>\n",
       "<g clip-path=\"url(#cpMC4wMHw0NjAuODB8MC4wMHwzNDUuNjA=)\">\n",
       "<line x1=\"107.20\" y1=\"272.16\" x2=\"382.40\" y2=\"272.16\" style=\"stroke-width: 0.75;\"/>\n",
       "<line x1=\"107.20\" y1=\"272.16\" x2=\"107.20\" y2=\"279.36\" style=\"stroke-width: 0.75;\"/>\n",
       "<line x1=\"176.00\" y1=\"272.16\" x2=\"176.00\" y2=\"279.36\" style=\"stroke-width: 0.75;\"/>\n",
       "<line x1=\"244.80\" y1=\"272.16\" x2=\"244.80\" y2=\"279.36\" style=\"stroke-width: 0.75;\"/>\n",
       "<line x1=\"313.60\" y1=\"272.16\" x2=\"313.60\" y2=\"279.36\" style=\"stroke-width: 0.75;\"/>\n",
       "<line x1=\"382.40\" y1=\"272.16\" x2=\"382.40\" y2=\"279.36\" style=\"stroke-width: 0.75;\"/>\n",
       "<text x=\"107.20\" y=\"298.08\" text-anchor=\"middle\" style=\"font-size: 12.00px; font-family: &quot;Arimo&quot;;\" textLength=\"10.73px\" lengthAdjust=\"spacingAndGlyphs\">-4</text>\n",
       "<text x=\"176.00\" y=\"298.08\" text-anchor=\"middle\" style=\"font-size: 12.00px; font-family: &quot;Arimo&quot;;\" textLength=\"10.73px\" lengthAdjust=\"spacingAndGlyphs\">-2</text>\n",
       "<text x=\"244.80\" y=\"298.08\" text-anchor=\"middle\" style=\"font-size: 12.00px; font-family: &quot;Arimo&quot;;\" textLength=\"6.86px\" lengthAdjust=\"spacingAndGlyphs\">0</text>\n",
       "<text x=\"313.60\" y=\"298.08\" text-anchor=\"middle\" style=\"font-size: 12.00px; font-family: &quot;Arimo&quot;;\" textLength=\"6.86px\" lengthAdjust=\"spacingAndGlyphs\">2</text>\n",
       "<text x=\"382.40\" y=\"298.08\" text-anchor=\"middle\" style=\"font-size: 12.00px; font-family: &quot;Arimo&quot;;\" textLength=\"6.86px\" lengthAdjust=\"spacingAndGlyphs\">4</text>\n",
       "<line x1=\"59.04\" y1=\"264.27\" x2=\"59.04\" y2=\"66.93\" style=\"stroke-width: 0.75;\"/>\n",
       "<line x1=\"59.04\" y1=\"264.27\" x2=\"51.84\" y2=\"264.27\" style=\"stroke-width: 0.75;\"/>\n",
       "<line x1=\"59.04\" y1=\"214.94\" x2=\"51.84\" y2=\"214.94\" style=\"stroke-width: 0.75;\"/>\n",
       "<line x1=\"59.04\" y1=\"165.60\" x2=\"51.84\" y2=\"165.60\" style=\"stroke-width: 0.75;\"/>\n",
       "<line x1=\"59.04\" y1=\"116.26\" x2=\"51.84\" y2=\"116.26\" style=\"stroke-width: 0.75;\"/>\n",
       "<line x1=\"59.04\" y1=\"66.93\" x2=\"51.84\" y2=\"66.93\" style=\"stroke-width: 0.75;\"/>\n",
       "<text transform=\"translate(41.76,264.27) rotate(-90)\" text-anchor=\"middle\" style=\"font-size: 12.00px; font-family: &quot;Arimo&quot;;\" textLength=\"20.81px\" lengthAdjust=\"spacingAndGlyphs\">-1.0</text>\n",
       "<text transform=\"translate(41.76,214.94) rotate(-90)\" text-anchor=\"middle\" style=\"font-size: 12.00px; font-family: &quot;Arimo&quot;;\" textLength=\"20.81px\" lengthAdjust=\"spacingAndGlyphs\">-0.5</text>\n",
       "<text transform=\"translate(41.76,165.60) rotate(-90)\" text-anchor=\"middle\" style=\"font-size: 12.00px; font-family: &quot;Arimo&quot;;\" textLength=\"16.94px\" lengthAdjust=\"spacingAndGlyphs\">0.0</text>\n",
       "<text transform=\"translate(41.76,116.26) rotate(-90)\" text-anchor=\"middle\" style=\"font-size: 12.00px; font-family: &quot;Arimo&quot;;\" textLength=\"16.94px\" lengthAdjust=\"spacingAndGlyphs\">0.5</text>\n",
       "<text transform=\"translate(41.76,66.93) rotate(-90)\" text-anchor=\"middle\" style=\"font-size: 12.00px; font-family: &quot;Arimo&quot;;\" textLength=\"16.94px\" lengthAdjust=\"spacingAndGlyphs\">1.0</text>\n",
       "<polygon points=\"59.04,272.16 430.56,272.16 430.56,59.04 59.04,59.04 \" style=\"stroke-width: 0.75;\"/>\n",
       "<text x=\"244.80\" y=\"326.88\" text-anchor=\"middle\" style=\"font-size: 12.00px; font-family: &quot;Arimo&quot;;\" textLength=\"26.47px\" lengthAdjust=\"spacingAndGlyphs\">x_np</text>\n",
       "<text transform=\"translate(12.96,165.60) rotate(-90)\" text-anchor=\"middle\" style=\"font-size: 12.00px; font-family: &quot;Arimo&quot;;\" textLength=\"6.12px\" lengthAdjust=\"spacingAndGlyphs\">y</text>\n",
       "</g>\n",
       "</svg>"
      ],
      "text/plain": [
       "<IPython.core.display.SVG object>"
      ]
     },
     "metadata": {},
     "output_type": "display_data"
    }
   ],
   "source": [
    "ryp.r(\"\"\"\n",
    "    y = sin(x_np)\n",
    "    plot(x_np, y, type=\"l\")\n",
    "    \"\"\"\n",
    ")"
   ]
  },
  {
   "cell_type": "markdown",
   "metadata": {},
   "source": [
    "### Compute in R and return into python"
   ]
  },
  {
   "cell_type": "code",
   "execution_count": 5,
   "metadata": {},
   "outputs": [],
   "source": [
    "ryp.r(\"\"\"\n",
    "      y = cos(x_np)\n",
    "      \"\"\")"
   ]
  },
  {
   "cell_type": "code",
   "execution_count": 7,
   "metadata": {},
   "outputs": [
    {
     "data": {
      "text/plain": [
       "array([ 0.28366219,  0.18651237,  0.08749898, -0.01238866, -0.11215253])"
      ]
     },
     "execution_count": 7,
     "metadata": {},
     "output_type": "execute_result"
    }
   ],
   "source": [
    "y_r = ryp.to_py(\"y\", format=\"numpy\")\n",
    "y_r[:5]"
   ]
  },
  {
   "cell_type": "code",
   "execution_count": 10,
   "metadata": {},
   "outputs": [
    {
     "data": {
      "text/plain": [
       "[<matplotlib.lines.Line2D at 0x7ca2cc0defd0>]"
      ]
     },
     "execution_count": 10,
     "metadata": {},
     "output_type": "execute_result"
    },
    {
     "data": {
      "image/png": "[encoded data removed]",
      "text/plain": [
       "<Figure size 640x480 with 1 Axes>"
      ]
     },
     "metadata": {},
     "output_type": "display_data"
    }
   ],
   "source": [
    "plt.plot(x, y_r, marker='.')"
   ]
  }
 ],
 "metadata": {
  "kernelspec": {
   "display_name": "pyro",
   "language": "python",
   "name": "python3"
  },
  "language_info": {
   "codemirror_mode": {
    "name": "ipython",
    "version": 3
   },
   "file_extension": ".py",
   "mimetype": "text/x-python",
   "name": "python",
   "nbconvert_exporter": "python",
   "pygments_lexer": "ipython3",
   "version": "3.11.10"
  }
 },
 "nbformat": 4,
 "nbformat_minor": 2
}
